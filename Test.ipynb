{
 "cells": [
  {
   "cell_type": "code",
   "execution_count": null,
   "id": "11931aa8",
   "metadata": {},
   "outputs": [],
   "source": [
    "my_list = ['Hello', '2', 'world','123', '1567', '-2', 'computer science','git','Russia', 'Denmark', 'Kazan' ]"
   ]
  },
  {
   "cell_type": "markdown",
   "id": "b8d2bd03",
   "metadata": {},
   "source": [
    "## Первый вариант."
   ]
  },
  {
   "cell_type": "code",
   "execution_count": 2,
   "id": "2619fa28",
   "metadata": {},
   "outputs": [
    {
     "name": "stdout",
     "output_type": "stream",
     "text": [
      "['2', '123', '-2', 'git']\n"
     ]
    }
   ],
   "source": [
    "new_list = []\n",
    "for element in my_list:\n",
    "    if len(element) <= 3:\n",
    "        new_list.append(element)\n",
    "print(new_list)"
   ]
  },
  {
   "cell_type": "markdown",
   "id": "097aa01c",
   "metadata": {},
   "source": [
    "## Второй вариант."
   ]
  },
  {
   "cell_type": "code",
   "execution_count": 20,
   "id": "0f0dae5b",
   "metadata": {},
   "outputs": [
    {
     "data": {
      "text/plain": [
       "['2', '123', '-2', 'git']"
      ]
     },
     "execution_count": 20,
     "metadata": {},
     "output_type": "execute_result"
    }
   ],
   "source": [
    "new_list_ = [element for element in my_list if len(element) <= 3]\n",
    "new_list_"
   ]
  },
  {
   "cell_type": "code",
   "execution_count": null,
   "id": "efbabc64",
   "metadata": {},
   "outputs": [],
   "source": []
  }
 ],
 "metadata": {
  "kernelspec": {
   "display_name": "Python 3 (ipykernel)",
   "language": "python",
   "name": "python3"
  },
  "language_info": {
   "codemirror_mode": {
    "name": "ipython",
    "version": 3
   },
   "file_extension": ".py",
   "mimetype": "text/x-python",
   "name": "python",
   "nbconvert_exporter": "python",
   "pygments_lexer": "ipython3",
   "version": "3.10.10"
  }
 },
 "nbformat": 4,
 "nbformat_minor": 5
}
